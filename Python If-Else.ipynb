{
 "cells": [
  {
   "attachments": {},
   "cell_type": "markdown",
   "metadata": {},
   "source": [
    "# Task | Python If-Else\n",
    "\n",
    "Given an integer, n, perform the following conditional actions:\n",
    "\n",
    "- If  is odd, print Weird\n",
    "- If  is even and in the inclusive range of 2 to 5, print Not Weird\n",
    "- If  is even and in the inclusive range of 6 to 20, print Weird\n",
    "- If  is even and greater than 20, print Not Weird"
   ]
  },
  {
   "attachments": {},
   "cell_type": "markdown",
   "metadata": {},
   "source": [
    "## Lógica"
   ]
  },
  {
   "attachments": {},
   "cell_type": "markdown",
   "metadata": {},
   "source": [
    "![Logo do Markdown](img/Chat.png)\n"
   ]
  },
  {
   "cell_type": "code",
   "execution_count": 1,
   "metadata": {},
   "outputs": [],
   "source": [
    "import math\n",
    "import os\n",
    "import re \n",
    "import sys\n"
   ]
  },
  {
   "attachments": {},
   "cell_type": "markdown",
   "metadata": {},
   "source": [
    "## Respondendo através da criação de uma função:"
   ]
  },
  {
   "cell_type": "code",
   "execution_count": 10,
   "metadata": {},
   "outputs": [],
   "source": [
    "x = 16\n",
    "def isWeird(x):\n",
    "    if x % 2 > 0:\n",
    "        print('Weird')\n",
    "    elif x <= 5 or x > 20:\n",
    "        print('Not Weird')\n",
    "    elif x < 20:\n",
    "        print('Weird')"
   ]
  },
  {
   "cell_type": "code",
   "execution_count": 13,
   "metadata": {},
   "outputs": [
    {
     "name": "stdout",
     "output_type": "stream",
     "text": [
      "Not Weird\n"
     ]
    }
   ],
   "source": [
    "isWeird(24)"
   ]
  },
  {
   "attachments": {},
   "cell_type": "markdown",
   "metadata": {},
   "source": [
    "## Formato para responder o exercício no hackerhank:"
   ]
  },
  {
   "cell_type": "code",
   "execution_count": 23,
   "metadata": {},
   "outputs": [
    {
     "name": "stdout",
     "output_type": "stream",
     "text": [
      "Weird\n"
     ]
    }
   ],
   "source": [
    "x = 12\n",
    "impar =  x % 2 > 0 # qualquer número onde o resto da divisão é maior que zero é impar\n",
    "\n",
    "if impar: # se o número for ímpar \n",
    "    print('Weird') # execute esse comando\n",
    "elif x <= 5 or x > 20:  # caso ele não seja impar, ou seja, par, verifique se ele é menor ou igual a 5 ou maior que 20\n",
    "    print('Not Weird') # sendo true  execute esse comando\n",
    "else: # caso ele não atenda nenhuma das condições \n",
    "    print('Weird') # execute esse comando"
   ]
  },
  {
   "cell_type": "code",
   "execution_count": 1,
   "metadata": {},
   "outputs": [],
   "source": [
    "# teste"
   ]
  },
  {
   "cell_type": "code",
   "execution_count": null,
   "metadata": {},
   "outputs": [],
   "source": []
  }
 ],
 "metadata": {
  "kernelspec": {
   "display_name": "base",
   "language": "python",
   "name": "python3"
  },
  "language_info": {
   "codemirror_mode": {
    "name": "ipython",
    "version": 3
   },
   "file_extension": ".py",
   "mimetype": "text/x-python",
   "name": "python",
   "nbconvert_exporter": "python",
   "pygments_lexer": "ipython3",
   "version": "3.9.7"
  },
  "orig_nbformat": 4,
  "vscode": {
   "interpreter": {
    "hash": "ad2bdc8ecc057115af97d19610ffacc2b4e99fae6737bb82f5d7fb13d2f2c186"
   }
  }
 },
 "nbformat": 4,
 "nbformat_minor": 2
}
