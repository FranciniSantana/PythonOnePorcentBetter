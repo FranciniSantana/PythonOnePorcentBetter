{
 "cells": [
  {
   "attachments": {},
   "cell_type": "markdown",
   "metadata": {},
   "source": [
    "# Task | Python print"
   ]
  },
  {
   "attachments": {},
   "cell_type": "markdown",
   "metadata": {},
   "source": [
    "The included code stub will read an integer, n , from STDIN.\n",
    "Without using any string methods, try to print the following:\n",
    "\n",
    "\n",
    "123... n\n",
    "\n",
    "Note that \"\" represents the consecutive values in between.\n",
    "ex: \n",
    "n = 5\n",
    "print the string 12345.\n",
    "1 <= n <= 150"
   ]
  },
  {
   "cell_type": "code",
   "execution_count": 27,
   "metadata": {},
   "outputs": [],
   "source": [
    "n = 150"
   ]
  },
  {
   "cell_type": "code",
   "execution_count": 28,
   "metadata": {},
   "outputs": [
    {
     "name": "stdout",
     "output_type": "stream",
     "text": [
      "123456789101112131415161718192021222324252627282930313233343536373839404142434445464748495051525354555657585960616263646566676869707172737475767778798081828384858687888990919293949596979899100101102103104105106107108109110111112113114115116117118119120121122123124125126127128129130131132133134135136137138139140141142143144145146147148149150"
     ]
    }
   ],
   "source": [
    "for i in range(0,n): #começando do 0 até o range\n",
    "    if n >= 1 and n <= 150: #aplicando a restrição\n",
    "        print(i+1, end = \"\")  # somar 1 ao i a cada interação e o parametro end=\"\" transforma o valor em string\n"
   ]
  },
  {
   "cell_type": "code",
   "execution_count": null,
   "metadata": {},
   "outputs": [],
   "source": []
  }
 ],
 "metadata": {
  "kernelspec": {
   "display_name": "Python 3",
   "language": "python",
   "name": "python3"
  },
  "language_info": {
   "codemirror_mode": {
    "name": "ipython",
    "version": 3
   },
   "file_extension": ".py",
   "mimetype": "text/x-python",
   "name": "python",
   "nbconvert_exporter": "python",
   "pygments_lexer": "ipython3",
   "version": "3.10.5"
  },
  "orig_nbformat": 4,
  "vscode": {
   "interpreter": {
    "hash": "4fde53f526245a7b47197ad2f362f6d83ace59e2d522657a0568ff999b8bdce4"
   }
  }
 },
 "nbformat": 4,
 "nbformat_minor": 2
}
